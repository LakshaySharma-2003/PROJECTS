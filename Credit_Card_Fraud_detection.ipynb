{
  "nbformat": 4,
  "nbformat_minor": 0,
  "metadata": {
    "colab": {
      "name": "Credit_Card_Fraud_detection.ipynb",
      "provenance": [],
      "collapsed_sections": [],
      "authorship_tag": "ABX9TyO5ZD84Ja34+nLTNPdG6/Zo",
      "include_colab_link": true
    },
    "kernelspec": {
      "name": "python3",
      "display_name": "Python 3"
    },
    "language_info": {
      "name": "python"
    }
  },
  "cells": [
    {
      "cell_type": "markdown",
      "metadata": {
        "id": "view-in-github",
        "colab_type": "text"
      },
      "source": [
        "<a href=\"https://colab.research.google.com/github/LakshaySharma-2003/PROJECTS/blob/main/Credit_Card_Fraud_detection.ipynb\" target=\"_parent\"><img src=\"https://colab.research.google.com/assets/colab-badge.svg\" alt=\"Open In Colab\"/></a>"
      ]
    },
    {
      "cell_type": "markdown",
      "source": [
        "**Connecting to the drive**"
      ],
      "metadata": {
        "id": "Nc6_vnZ1eWjz"
      }
    },
    {
      "cell_type": "code",
      "source": [
        "from google.colab import drive\n",
        "drive.mount('/content/drive')"
      ],
      "metadata": {
        "colab": {
          "base_uri": "https://localhost:8080/"
        },
        "id": "eOYcU-KtX-gk",
        "outputId": "103c4dbb-b114-4876-dd5a-3840bebd9031"
      },
      "execution_count": 24,
      "outputs": [
        {
          "output_type": "stream",
          "name": "stdout",
          "text": [
            "Drive already mounted at /content/drive; to attempt to forcibly remount, call drive.mount(\"/content/drive\", force_remount=True).\n"
          ]
        }
      ]
    },
    {
      "cell_type": "markdown",
      "source": [
        "**header files and files from scikit learn**"
      ],
      "metadata": {
        "id": "InVSu1JMegFt"
      }
    },
    {
      "cell_type": "code",
      "source": [
        "import numpy as np # linear algebra\n",
        "import pandas as pd # data processing, CSV file I/O (e.g. pd.read_csv)\n",
        "import os"
      ],
      "metadata": {
        "id": "-XsXtfQ41I-J"
      },
      "execution_count": 25,
      "outputs": []
    },
    {
      "cell_type": "markdown",
      "source": [
        "**Reading the database**"
      ],
      "metadata": {
        "id": "XWaz1fp1f4gQ"
      }
    },
    {
      "cell_type": "code",
      "source": [
        "df = pd.read_csv(\"/content/drive/MyDrive/credit_card_fraud_Dataset.csv\")\n",
        "df.head().style.background_gradient(cmap='Blues')"
      ],
      "metadata": {
        "colab": {
          "base_uri": "https://localhost:8080/",
          "height": 206
        },
        "id": "X143lvoCYRhC",
        "outputId": "3d6257b8-246f-49af-b8a5-579d359ecca2"
      },
      "execution_count": 26,
      "outputs": [
        {
          "output_type": "execute_result",
          "data": {
            "text/plain": [
              "<pandas.io.formats.style.Styler at 0x7fb398516e50>"
            ],
            "text/html": [
              "<style type=\"text/css\">\n",
              "#T_3b136_row0_col0, #T_3b136_row0_col4, #T_3b136_row2_col6, #T_3b136_row3_col1, #T_3b136_row3_col4, #T_3b136_row3_col6, #T_3b136_row4_col2, #T_3b136_row4_col4, #T_3b136_row4_col6 {\n",
              "  background-color: #08306b;\n",
              "  color: #f1f1f1;\n",
              "}\n",
              "#T_3b136_row0_col1 {\n",
              "  background-color: #f2f8fd;\n",
              "  color: #000000;\n",
              "}\n",
              "#T_3b136_row0_col2 {\n",
              "  background-color: #0d57a1;\n",
              "  color: #f1f1f1;\n",
              "}\n",
              "#T_3b136_row0_col3, #T_3b136_row0_col5, #T_3b136_row0_col6, #T_3b136_row0_col7, #T_3b136_row1_col1, #T_3b136_row1_col3, #T_3b136_row1_col4, #T_3b136_row1_col5, #T_3b136_row1_col6, #T_3b136_row1_col7, #T_3b136_row2_col3, #T_3b136_row2_col4, #T_3b136_row2_col5, #T_3b136_row2_col7, #T_3b136_row3_col0, #T_3b136_row3_col2, #T_3b136_row3_col3, #T_3b136_row3_col5, #T_3b136_row3_col7, #T_3b136_row4_col3, #T_3b136_row4_col5, #T_3b136_row4_col7 {\n",
              "  background-color: #f7fbff;\n",
              "  color: #000000;\n",
              "}\n",
              "#T_3b136_row1_col0 {\n",
              "  background-color: #d9e7f5;\n",
              "  color: #000000;\n",
              "}\n",
              "#T_3b136_row1_col2 {\n",
              "  background-color: #6aaed6;\n",
              "  color: #f1f1f1;\n",
              "}\n",
              "#T_3b136_row2_col0 {\n",
              "  background-color: #edf4fc;\n",
              "  color: #000000;\n",
              "}\n",
              "#T_3b136_row2_col1 {\n",
              "  background-color: #e0ecf8;\n",
              "  color: #000000;\n",
              "}\n",
              "#T_3b136_row2_col2 {\n",
              "  background-color: #f1f7fd;\n",
              "  color: #000000;\n",
              "}\n",
              "#T_3b136_row4_col0 {\n",
              "  background-color: #206fb4;\n",
              "  color: #f1f1f1;\n",
              "}\n",
              "#T_3b136_row4_col1 {\n",
              "  background-color: #e9f2fa;\n",
              "  color: #000000;\n",
              "}\n",
              "</style>\n",
              "<table id=\"T_3b136_\" class=\"dataframe\">\n",
              "  <thead>\n",
              "    <tr>\n",
              "      <th class=\"blank level0\" >&nbsp;</th>\n",
              "      <th class=\"col_heading level0 col0\" >distance_from_home</th>\n",
              "      <th class=\"col_heading level0 col1\" >distance_from_last_transaction</th>\n",
              "      <th class=\"col_heading level0 col2\" >ratio_to_median_purchase_price</th>\n",
              "      <th class=\"col_heading level0 col3\" >repeat_retailer</th>\n",
              "      <th class=\"col_heading level0 col4\" >used_chip</th>\n",
              "      <th class=\"col_heading level0 col5\" >used_pin_number</th>\n",
              "      <th class=\"col_heading level0 col6\" >online_order</th>\n",
              "      <th class=\"col_heading level0 col7\" >fraud</th>\n",
              "    </tr>\n",
              "  </thead>\n",
              "  <tbody>\n",
              "    <tr>\n",
              "      <th id=\"T_3b136_level0_row0\" class=\"row_heading level0 row0\" >0</th>\n",
              "      <td id=\"T_3b136_row0_col0\" class=\"data row0 col0\" >57.877857</td>\n",
              "      <td id=\"T_3b136_row0_col1\" class=\"data row0 col1\" >0.311140</td>\n",
              "      <td id=\"T_3b136_row0_col2\" class=\"data row0 col2\" >1.945940</td>\n",
              "      <td id=\"T_3b136_row0_col3\" class=\"data row0 col3\" >1</td>\n",
              "      <td id=\"T_3b136_row0_col4\" class=\"data row0 col4\" >1</td>\n",
              "      <td id=\"T_3b136_row0_col5\" class=\"data row0 col5\" >0</td>\n",
              "      <td id=\"T_3b136_row0_col6\" class=\"data row0 col6\" >0</td>\n",
              "      <td id=\"T_3b136_row0_col7\" class=\"data row0 col7\" >0</td>\n",
              "    </tr>\n",
              "    <tr>\n",
              "      <th id=\"T_3b136_level0_row1\" class=\"row_heading level0 row1\" >1</th>\n",
              "      <td id=\"T_3b136_row1_col0\" class=\"data row1 col0\" >10.829943</td>\n",
              "      <td id=\"T_3b136_row1_col1\" class=\"data row1 col1\" >0.175592</td>\n",
              "      <td id=\"T_3b136_row1_col2\" class=\"data row1 col2\" >1.294219</td>\n",
              "      <td id=\"T_3b136_row1_col3\" class=\"data row1 col3\" >1</td>\n",
              "      <td id=\"T_3b136_row1_col4\" class=\"data row1 col4\" >0</td>\n",
              "      <td id=\"T_3b136_row1_col5\" class=\"data row1 col5\" >0</td>\n",
              "      <td id=\"T_3b136_row1_col6\" class=\"data row1 col6\" >0</td>\n",
              "      <td id=\"T_3b136_row1_col7\" class=\"data row1 col7\" >0</td>\n",
              "    </tr>\n",
              "    <tr>\n",
              "      <th id=\"T_3b136_level0_row2\" class=\"row_heading level0 row2\" >2</th>\n",
              "      <td id=\"T_3b136_row2_col0\" class=\"data row2 col0\" >5.091079</td>\n",
              "      <td id=\"T_3b136_row2_col1\" class=\"data row2 col1\" >0.805153</td>\n",
              "      <td id=\"T_3b136_row2_col2\" class=\"data row2 col2\" >0.427715</td>\n",
              "      <td id=\"T_3b136_row2_col3\" class=\"data row2 col3\" >1</td>\n",
              "      <td id=\"T_3b136_row2_col4\" class=\"data row2 col4\" >0</td>\n",
              "      <td id=\"T_3b136_row2_col5\" class=\"data row2 col5\" >0</td>\n",
              "      <td id=\"T_3b136_row2_col6\" class=\"data row2 col6\" >1</td>\n",
              "      <td id=\"T_3b136_row2_col7\" class=\"data row2 col7\" >0</td>\n",
              "    </tr>\n",
              "    <tr>\n",
              "      <th id=\"T_3b136_level0_row3\" class=\"row_heading level0 row3\" >3</th>\n",
              "      <td id=\"T_3b136_row3_col0\" class=\"data row3 col0\" >2.247564</td>\n",
              "      <td id=\"T_3b136_row3_col1\" class=\"data row3 col1\" >5.600044</td>\n",
              "      <td id=\"T_3b136_row3_col2\" class=\"data row3 col2\" >0.362663</td>\n",
              "      <td id=\"T_3b136_row3_col3\" class=\"data row3 col3\" >1</td>\n",
              "      <td id=\"T_3b136_row3_col4\" class=\"data row3 col4\" >1</td>\n",
              "      <td id=\"T_3b136_row3_col5\" class=\"data row3 col5\" >0</td>\n",
              "      <td id=\"T_3b136_row3_col6\" class=\"data row3 col6\" >1</td>\n",
              "      <td id=\"T_3b136_row3_col7\" class=\"data row3 col7\" >0</td>\n",
              "    </tr>\n",
              "    <tr>\n",
              "      <th id=\"T_3b136_level0_row4\" class=\"row_heading level0 row4\" >4</th>\n",
              "      <td id=\"T_3b136_row4_col0\" class=\"data row4 col0\" >44.190936</td>\n",
              "      <td id=\"T_3b136_row4_col1\" class=\"data row4 col1\" >0.566486</td>\n",
              "      <td id=\"T_3b136_row4_col2\" class=\"data row4 col2\" >2.222767</td>\n",
              "      <td id=\"T_3b136_row4_col3\" class=\"data row4 col3\" >1</td>\n",
              "      <td id=\"T_3b136_row4_col4\" class=\"data row4 col4\" >1</td>\n",
              "      <td id=\"T_3b136_row4_col5\" class=\"data row4 col5\" >0</td>\n",
              "      <td id=\"T_3b136_row4_col6\" class=\"data row4 col6\" >1</td>\n",
              "      <td id=\"T_3b136_row4_col7\" class=\"data row4 col7\" >0</td>\n",
              "    </tr>\n",
              "  </tbody>\n",
              "</table>\n"
            ]
          },
          "metadata": {},
          "execution_count": 26
        }
      ]
    },
    {
      "cell_type": "code",
      "source": [
        "df.describe().style.set_properties(**{'background-color': 'black',\n",
        "                                      'color': 'white',\n",
        "                                      'border-color': 'white'})"
      ],
      "metadata": {
        "colab": {
          "base_uri": "https://localhost:8080/",
          "height": 300
        },
        "id": "nOwIP5Tyak55",
        "outputId": "33273737-dd59-42da-9fdd-6c16e6abc766"
      },
      "execution_count": 27,
      "outputs": [
        {
          "output_type": "execute_result",
          "data": {
            "text/plain": [
              "<pandas.io.formats.style.Styler at 0x7fb3989b8210>"
            ],
            "text/html": [
              "<style type=\"text/css\">\n",
              "#T_0bcda_row0_col0, #T_0bcda_row0_col1, #T_0bcda_row0_col2, #T_0bcda_row0_col3, #T_0bcda_row0_col4, #T_0bcda_row0_col5, #T_0bcda_row0_col6, #T_0bcda_row0_col7, #T_0bcda_row1_col0, #T_0bcda_row1_col1, #T_0bcda_row1_col2, #T_0bcda_row1_col3, #T_0bcda_row1_col4, #T_0bcda_row1_col5, #T_0bcda_row1_col6, #T_0bcda_row1_col7, #T_0bcda_row2_col0, #T_0bcda_row2_col1, #T_0bcda_row2_col2, #T_0bcda_row2_col3, #T_0bcda_row2_col4, #T_0bcda_row2_col5, #T_0bcda_row2_col6, #T_0bcda_row2_col7, #T_0bcda_row3_col0, #T_0bcda_row3_col1, #T_0bcda_row3_col2, #T_0bcda_row3_col3, #T_0bcda_row3_col4, #T_0bcda_row3_col5, #T_0bcda_row3_col6, #T_0bcda_row3_col7, #T_0bcda_row4_col0, #T_0bcda_row4_col1, #T_0bcda_row4_col2, #T_0bcda_row4_col3, #T_0bcda_row4_col4, #T_0bcda_row4_col5, #T_0bcda_row4_col6, #T_0bcda_row4_col7, #T_0bcda_row5_col0, #T_0bcda_row5_col1, #T_0bcda_row5_col2, #T_0bcda_row5_col3, #T_0bcda_row5_col4, #T_0bcda_row5_col5, #T_0bcda_row5_col6, #T_0bcda_row5_col7, #T_0bcda_row6_col0, #T_0bcda_row6_col1, #T_0bcda_row6_col2, #T_0bcda_row6_col3, #T_0bcda_row6_col4, #T_0bcda_row6_col5, #T_0bcda_row6_col6, #T_0bcda_row6_col7, #T_0bcda_row7_col0, #T_0bcda_row7_col1, #T_0bcda_row7_col2, #T_0bcda_row7_col3, #T_0bcda_row7_col4, #T_0bcda_row7_col5, #T_0bcda_row7_col6, #T_0bcda_row7_col7 {\n",
              "  background-color: black;\n",
              "  color: white;\n",
              "  border-color: white;\n",
              "}\n",
              "</style>\n",
              "<table id=\"T_0bcda_\" class=\"dataframe\">\n",
              "  <thead>\n",
              "    <tr>\n",
              "      <th class=\"blank level0\" >&nbsp;</th>\n",
              "      <th class=\"col_heading level0 col0\" >distance_from_home</th>\n",
              "      <th class=\"col_heading level0 col1\" >distance_from_last_transaction</th>\n",
              "      <th class=\"col_heading level0 col2\" >ratio_to_median_purchase_price</th>\n",
              "      <th class=\"col_heading level0 col3\" >repeat_retailer</th>\n",
              "      <th class=\"col_heading level0 col4\" >used_chip</th>\n",
              "      <th class=\"col_heading level0 col5\" >used_pin_number</th>\n",
              "      <th class=\"col_heading level0 col6\" >online_order</th>\n",
              "      <th class=\"col_heading level0 col7\" >fraud</th>\n",
              "    </tr>\n",
              "  </thead>\n",
              "  <tbody>\n",
              "    <tr>\n",
              "      <th id=\"T_0bcda_level0_row0\" class=\"row_heading level0 row0\" >count</th>\n",
              "      <td id=\"T_0bcda_row0_col0\" class=\"data row0 col0\" >99.000000</td>\n",
              "      <td id=\"T_0bcda_row0_col1\" class=\"data row0 col1\" >99.000000</td>\n",
              "      <td id=\"T_0bcda_row0_col2\" class=\"data row0 col2\" >99.000000</td>\n",
              "      <td id=\"T_0bcda_row0_col3\" class=\"data row0 col3\" >99.000000</td>\n",
              "      <td id=\"T_0bcda_row0_col4\" class=\"data row0 col4\" >99.000000</td>\n",
              "      <td id=\"T_0bcda_row0_col5\" class=\"data row0 col5\" >99.000000</td>\n",
              "      <td id=\"T_0bcda_row0_col6\" class=\"data row0 col6\" >99.000000</td>\n",
              "      <td id=\"T_0bcda_row0_col7\" class=\"data row0 col7\" >99.000000</td>\n",
              "    </tr>\n",
              "    <tr>\n",
              "      <th id=\"T_0bcda_level0_row1\" class=\"row_heading level0 row1\" >mean</th>\n",
              "      <td id=\"T_0bcda_row1_col0\" class=\"data row1 col0\" >33.808550</td>\n",
              "      <td id=\"T_0bcda_row1_col1\" class=\"data row1 col1\" >6.359717</td>\n",
              "      <td id=\"T_0bcda_row1_col2\" class=\"data row1 col2\" >1.528653</td>\n",
              "      <td id=\"T_0bcda_row1_col3\" class=\"data row1 col3\" >0.929293</td>\n",
              "      <td id=\"T_0bcda_row1_col4\" class=\"data row1 col4\" >0.333333</td>\n",
              "      <td id=\"T_0bcda_row1_col5\" class=\"data row1 col5\" >0.131313</td>\n",
              "      <td id=\"T_0bcda_row1_col6\" class=\"data row1 col6\" >0.666667</td>\n",
              "      <td id=\"T_0bcda_row1_col7\" class=\"data row1 col7\" >0.080808</td>\n",
              "    </tr>\n",
              "    <tr>\n",
              "      <th id=\"T_0bcda_level0_row2\" class=\"row_heading level0 row2\" >std</th>\n",
              "      <td id=\"T_0bcda_row2_col0\" class=\"data row2 col0\" >83.273773</td>\n",
              "      <td id=\"T_0bcda_row2_col1\" class=\"data row2 col1\" >20.112763</td>\n",
              "      <td id=\"T_0bcda_row2_col2\" class=\"data row2 col2\" >1.653407</td>\n",
              "      <td id=\"T_0bcda_row2_col3\" class=\"data row2 col3\" >0.257639</td>\n",
              "      <td id=\"T_0bcda_row2_col4\" class=\"data row2 col4\" >0.473804</td>\n",
              "      <td id=\"T_0bcda_row2_col5\" class=\"data row2 col5\" >0.339461</td>\n",
              "      <td id=\"T_0bcda_row2_col6\" class=\"data row2 col6\" >0.473804</td>\n",
              "      <td id=\"T_0bcda_row2_col7\" class=\"data row2 col7\" >0.273927</td>\n",
              "    </tr>\n",
              "    <tr>\n",
              "      <th id=\"T_0bcda_level0_row3\" class=\"row_heading level0 row3\" >min</th>\n",
              "      <td id=\"T_0bcda_row3_col0\" class=\"data row3 col0\" >0.530985</td>\n",
              "      <td id=\"T_0bcda_row3_col1\" class=\"data row3 col1\" >0.035699</td>\n",
              "      <td id=\"T_0bcda_row3_col2\" class=\"data row3 col2\" >0.064768</td>\n",
              "      <td id=\"T_0bcda_row3_col3\" class=\"data row3 col3\" >0.000000</td>\n",
              "      <td id=\"T_0bcda_row3_col4\" class=\"data row3 col4\" >0.000000</td>\n",
              "      <td id=\"T_0bcda_row3_col5\" class=\"data row3 col5\" >0.000000</td>\n",
              "      <td id=\"T_0bcda_row3_col6\" class=\"data row3 col6\" >0.000000</td>\n",
              "      <td id=\"T_0bcda_row3_col7\" class=\"data row3 col7\" >0.000000</td>\n",
              "    </tr>\n",
              "    <tr>\n",
              "      <th id=\"T_0bcda_level0_row4\" class=\"row_heading level0 row4\" >25%</th>\n",
              "      <td id=\"T_0bcda_row4_col0\" class=\"data row4 col0\" >4.176720</td>\n",
              "      <td id=\"T_0bcda_row4_col1\" class=\"data row4 col1\" >0.297922</td>\n",
              "      <td id=\"T_0bcda_row4_col2\" class=\"data row4 col2\" >0.490631</td>\n",
              "      <td id=\"T_0bcda_row4_col3\" class=\"data row4 col3\" >1.000000</td>\n",
              "      <td id=\"T_0bcda_row4_col4\" class=\"data row4 col4\" >0.000000</td>\n",
              "      <td id=\"T_0bcda_row4_col5\" class=\"data row4 col5\" >0.000000</td>\n",
              "      <td id=\"T_0bcda_row4_col6\" class=\"data row4 col6\" >0.000000</td>\n",
              "      <td id=\"T_0bcda_row4_col7\" class=\"data row4 col7\" >0.000000</td>\n",
              "    </tr>\n",
              "    <tr>\n",
              "      <th id=\"T_0bcda_level0_row5\" class=\"row_heading level0 row5\" >50%</th>\n",
              "      <td id=\"T_0bcda_row5_col0\" class=\"data row5 col0\" >11.411763</td>\n",
              "      <td id=\"T_0bcda_row5_col1\" class=\"data row5 col1\" >1.035118</td>\n",
              "      <td id=\"T_0bcda_row5_col2\" class=\"data row5 col2\" >1.070599</td>\n",
              "      <td id=\"T_0bcda_row5_col3\" class=\"data row5 col3\" >1.000000</td>\n",
              "      <td id=\"T_0bcda_row5_col4\" class=\"data row5 col4\" >0.000000</td>\n",
              "      <td id=\"T_0bcda_row5_col5\" class=\"data row5 col5\" >0.000000</td>\n",
              "      <td id=\"T_0bcda_row5_col6\" class=\"data row5 col6\" >1.000000</td>\n",
              "      <td id=\"T_0bcda_row5_col7\" class=\"data row5 col7\" >0.000000</td>\n",
              "    </tr>\n",
              "    <tr>\n",
              "      <th id=\"T_0bcda_level0_row6\" class=\"row_heading level0 row6\" >75%</th>\n",
              "      <td id=\"T_0bcda_row6_col0\" class=\"data row6 col0\" >35.849861</td>\n",
              "      <td id=\"T_0bcda_row6_col1\" class=\"data row6 col1\" >3.460890</td>\n",
              "      <td id=\"T_0bcda_row6_col2\" class=\"data row6 col2\" >1.922429</td>\n",
              "      <td id=\"T_0bcda_row6_col3\" class=\"data row6 col3\" >1.000000</td>\n",
              "      <td id=\"T_0bcda_row6_col4\" class=\"data row6 col4\" >1.000000</td>\n",
              "      <td id=\"T_0bcda_row6_col5\" class=\"data row6 col5\" >0.000000</td>\n",
              "      <td id=\"T_0bcda_row6_col6\" class=\"data row6 col6\" >1.000000</td>\n",
              "      <td id=\"T_0bcda_row6_col7\" class=\"data row6 col7\" >0.000000</td>\n",
              "    </tr>\n",
              "    <tr>\n",
              "      <th id=\"T_0bcda_level0_row7\" class=\"row_heading level0 row7\" >max</th>\n",
              "      <td id=\"T_0bcda_row7_col0\" class=\"data row7 col0\" >765.282559</td>\n",
              "      <td id=\"T_0bcda_row7_col1\" class=\"data row7 col1\" >175.989182</td>\n",
              "      <td id=\"T_0bcda_row7_col2\" class=\"data row7 col2\" >10.194359</td>\n",
              "      <td id=\"T_0bcda_row7_col3\" class=\"data row7 col3\" >1.000000</td>\n",
              "      <td id=\"T_0bcda_row7_col4\" class=\"data row7 col4\" >1.000000</td>\n",
              "      <td id=\"T_0bcda_row7_col5\" class=\"data row7 col5\" >1.000000</td>\n",
              "      <td id=\"T_0bcda_row7_col6\" class=\"data row7 col6\" >1.000000</td>\n",
              "      <td id=\"T_0bcda_row7_col7\" class=\"data row7 col7\" >1.000000</td>\n",
              "    </tr>\n",
              "  </tbody>\n",
              "</table>\n"
            ]
          },
          "metadata": {},
          "execution_count": 27
        }
      ]
    },
    {
      "cell_type": "code",
      "source": [
        "df.info()"
      ],
      "metadata": {
        "colab": {
          "base_uri": "https://localhost:8080/"
        },
        "id": "gETJgouRaqEA",
        "outputId": "b7e1aa2d-c26c-4219-a18e-16070f6096b7"
      },
      "execution_count": 28,
      "outputs": [
        {
          "output_type": "stream",
          "name": "stdout",
          "text": [
            "<class 'pandas.core.frame.DataFrame'>\n",
            "RangeIndex: 99 entries, 0 to 98\n",
            "Data columns (total 8 columns):\n",
            " #   Column                          Non-Null Count  Dtype  \n",
            "---  ------                          --------------  -----  \n",
            " 0   distance_from_home              99 non-null     float64\n",
            " 1   distance_from_last_transaction  99 non-null     float64\n",
            " 2   ratio_to_median_purchase_price  99 non-null     float64\n",
            " 3   repeat_retailer                 99 non-null     int64  \n",
            " 4   used_chip                       99 non-null     int64  \n",
            " 5   used_pin_number                 99 non-null     int64  \n",
            " 6   online_order                    99 non-null     int64  \n",
            " 7   fraud                           99 non-null     int64  \n",
            "dtypes: float64(3), int64(5)\n",
            "memory usage: 6.3 KB\n"
          ]
        }
      ]
    },
    {
      "cell_type": "code",
      "source": [
        "df.dtypes"
      ],
      "metadata": {
        "id": "TDMZ3bMFgNsg",
        "colab": {
          "base_uri": "https://localhost:8080/"
        },
        "outputId": "3f18dc09-32a0-401f-9c6a-1c21fa044f26"
      },
      "execution_count": 29,
      "outputs": [
        {
          "output_type": "execute_result",
          "data": {
            "text/plain": [
              "distance_from_home                float64\n",
              "distance_from_last_transaction    float64\n",
              "ratio_to_median_purchase_price    float64\n",
              "repeat_retailer                     int64\n",
              "used_chip                           int64\n",
              "used_pin_number                     int64\n",
              "online_order                        int64\n",
              "fraud                               int64\n",
              "dtype: object"
            ]
          },
          "metadata": {},
          "execution_count": 29
        }
      ]
    },
    {
      "cell_type": "markdown",
      "source": [
        "PRE-PROCESSING FOR DATA"
      ],
      "metadata": {
        "id": "qOcz46rU5HQV"
      }
    },
    {
      "cell_type": "code",
      "source": [
        "df.isna().sum()"
      ],
      "metadata": {
        "colab": {
          "base_uri": "https://localhost:8080/"
        },
        "id": "NW74kilQhl3M",
        "outputId": "23f6bf71-1f7a-43c1-a3c3-ed9d913ad61f"
      },
      "execution_count": 30,
      "outputs": [
        {
          "output_type": "execute_result",
          "data": {
            "text/plain": [
              "distance_from_home                0\n",
              "distance_from_last_transaction    0\n",
              "ratio_to_median_purchase_price    0\n",
              "repeat_retailer                   0\n",
              "used_chip                         0\n",
              "used_pin_number                   0\n",
              "online_order                      0\n",
              "fraud                             0\n",
              "dtype: int64"
            ]
          },
          "metadata": {},
          "execution_count": 30
        }
      ]
    },
    {
      "cell_type": "markdown",
      "source": [
        "PLOTING THE HEATMAP"
      ],
      "metadata": {
        "id": "9Z4C2bdC5bT5"
      }
    },
    {
      "cell_type": "code",
      "source": [
        "import seaborn as sns\n",
        "corr=df.corr()\n",
        "sns.heatmap(corr,xticklabels=corr.columns, yticklabels=corr.columns, annot=True, cmap=\"hot\")"
      ],
      "metadata": {
        "colab": {
          "base_uri": "https://localhost:8080/",
          "height": 437
        },
        "id": "6sm_q0Behun8",
        "outputId": "625e546b-9136-4a98-ef30-317d055e20d3"
      },
      "execution_count": 31,
      "outputs": [
        {
          "output_type": "execute_result",
          "data": {
            "text/plain": [
              "<matplotlib.axes._subplots.AxesSubplot at 0x7fb3984bc510>"
            ]
          },
          "metadata": {},
          "execution_count": 31
        },
        {
          "output_type": "display_data",
          "data": {
            "text/plain": [
              "<Figure size 432x288 with 2 Axes>"
            ],
            "image/png": "[encoded data removed]"
          },
          "metadata": {
            "needs_background": "light"
          }
        }
      ]
    },
    {
      "cell_type": "code",
      "source": [
        "for i in df.columns[3:]:\n",
        "  print(df[i].value_counts())"
      ],
      "metadata": {
        "colab": {
          "base_uri": "https://localhost:8080/"
        },
        "id": "HR-5GvPYh2lV",
        "outputId": "5117e107-5fc3-4aa0-cda4-4ed0c19a7c68"
      },
      "execution_count": 32,
      "outputs": [
        {
          "output_type": "stream",
          "name": "stdout",
          "text": [
            "1    92\n",
            "0     7\n",
            "Name: repeat_retailer, dtype: int64\n",
            "0    66\n",
            "1    33\n",
            "Name: used_chip, dtype: int64\n",
            "0    86\n",
            "1    13\n",
            "Name: used_pin_number, dtype: int64\n",
            "1    66\n",
            "0    33\n",
            "Name: online_order, dtype: int64\n",
            "0    91\n",
            "1     8\n",
            "Name: fraud, dtype: int64\n"
          ]
        }
      ]
    },
    {
      "cell_type": "code",
      "source": [
        "y=df[\"fraud\"]\n",
        "x=df.drop(\"fraud\",axis=1)"
      ],
      "metadata": {
        "id": "38tZcpL3jwPJ"
      },
      "execution_count": 33,
      "outputs": []
    },
    {
      "cell_type": "markdown",
      "source": [
        "**APPLYING LOGICAL REGRESSION**"
      ],
      "metadata": {
        "id": "64U8quHmJ1Ll"
      }
    },
    {
      "cell_type": "markdown",
      "source": [
        "TRAIN AND TEST THE DATA"
      ],
      "metadata": {
        "id": "ptOUwSNX7Lec"
      }
    },
    {
      "cell_type": "code",
      "source": [
        "from sklearn.model_selection import train_test_split\n",
        "x_train,x_test,y_train,y_test=train_test_split(x,y,test_size=0.33,random_state=0)\n",
        "from sklearn.linear_model import LogisticRegression\n",
        "regressor=LogisticRegression()\n",
        "regressor.fit(x_train,y_train)\n",
        "y_pred=regressor.predict(x_test)"
      ],
      "metadata": {
        "id": "0jlG3pRJkITo"
      },
      "execution_count": 34,
      "outputs": []
    },
    {
      "cell_type": "markdown",
      "source": [
        "BUILD THE CONFUSION MATRIX"
      ],
      "metadata": {
        "id": "MdTcCHhz9QgJ"
      }
    },
    {
      "cell_type": "code",
      "source": [
        "from sklearn.metrics import confusion_matrix,classification_report,precision_score,recall_score\n",
        "sns.heatmap(confusion_matrix(y_test,y_pred),annot=True,cmap=\"YlGnBu\")"
      ],
      "metadata": {
        "colab": {
          "base_uri": "https://localhost:8080/",
          "height": 282
        },
        "id": "ngZuuUEI83AT",
        "outputId": "e9ec80f0-6137-4939-ba18-1be557c386c5"
      },
      "execution_count": 38,
      "outputs": [
        {
          "output_type": "execute_result",
          "data": {
            "text/plain": [
              "<matplotlib.axes._subplots.AxesSubplot at 0x7fb395a6d3d0>"
            ]
          },
          "metadata": {},
          "execution_count": 38
        },
        {
          "output_type": "display_data",
          "data": {
            "text/plain": [
              "<Figure size 432x288 with 2 Axes>"
            ],
            "image/png": "[encoded data removed]"
          },
          "metadata": {
            "needs_background": "light"
          }
        }
      ]
    },
    {
      "cell_type": "code",
      "source": [
        "print(classification_report(y_test,y_pred))"
      ],
      "metadata": {
        "colab": {
          "base_uri": "https://localhost:8080/"
        },
        "id": "0XUiSFs8-B8d",
        "outputId": "b5cf77a3-385e-4ef5-b04b-151852bcedf9"
      },
      "execution_count": 39,
      "outputs": [
        {
          "output_type": "stream",
          "name": "stdout",
          "text": [
            "              precision    recall  f1-score   support\n",
            "\n",
            "           0       0.91      1.00      0.95        29\n",
            "           1       1.00      0.25      0.40         4\n",
            "\n",
            "    accuracy                           0.91        33\n",
            "   macro avg       0.95      0.62      0.68        33\n",
            "weighted avg       0.92      0.91      0.88        33\n",
            "\n"
          ]
        }
      ]
    },
    {
      "cell_type": "markdown",
      "source": [
        "CALCULATING THE PRECISION VALUE AND THE RECALL VALUE"
      ],
      "metadata": {
        "id": "Jw_serbrAE74"
      }
    },
    {
      "cell_type": "code",
      "source": [
        "print(precision_score(y_test,y_pred))\n",
        "print(recall_score(y_test,y_pred))"
      ],
      "metadata": {
        "colab": {
          "base_uri": "https://localhost:8080/"
        },
        "id": "Mmg7pXgO_wF8",
        "outputId": "767f0562-88c4-457b-a72b-b0870abe4138"
      },
      "execution_count": 43,
      "outputs": [
        {
          "output_type": "stream",
          "name": "stdout",
          "text": [
            "1.0\n",
            "0.25\n"
          ]
        }
      ]
    },
    {
      "cell_type": "markdown",
      "source": [
        "**APPLYING RANDOM FOREST CLASSIFIER**"
      ],
      "metadata": {
        "id": "scoBlITdKAMq"
      }
    },
    {
      "cell_type": "markdown",
      "source": [
        "TRAING AND TESTING THE DATA"
      ],
      "metadata": {
        "id": "dsG11TI1J73o"
      }
    },
    {
      "cell_type": "code",
      "source": [
        "from sklearn.ensemble import RandomForestClassifier\n",
        "clf = RandomForestClassifier(criterion= \"entropy\",random_state= 42)\n",
        "clf.fit(x_train, y_train)\n",
        "y_predicted = clf.predict(x_test)\n",
        "score=clf.score(x_test,y_test)"
      ],
      "metadata": {
        "id": "wN4ryuAvBQIp"
      },
      "execution_count": 45,
      "outputs": []
    },
    {
      "cell_type": "code",
      "source": [
        "print(\"Accuracy % of Random forest on test data: {}\".format(score))"
      ],
      "metadata": {
        "colab": {
          "base_uri": "https://localhost:8080/"
        },
        "id": "zdedR5TaCROz",
        "outputId": "06a84590-03a6-4ac8-c57f-e917fefcc010"
      },
      "execution_count": 54,
      "outputs": [
        {
          "output_type": "stream",
          "name": "stdout",
          "text": [
            "Accuracy % of Random forest on test data: 0.9090909090909091\n"
          ]
        }
      ]
    },
    {
      "cell_type": "code",
      "source": [
        "sns.heatmap(confusion_matrix(y_test,y_predicted),annot=True,cmap=\"YlGnBu\")"
      ],
      "metadata": {
        "colab": {
          "base_uri": "https://localhost:8080/",
          "height": 282
        },
        "id": "ak3mdxyDDl_t",
        "outputId": "923af6ff-36ee-4896-e034-cab687ab308e"
      },
      "execution_count": 61,
      "outputs": [
        {
          "output_type": "execute_result",
          "data": {
            "text/plain": [
              "<matplotlib.axes._subplots.AxesSubplot at 0x7fb395ac3f90>"
            ]
          },
          "metadata": {},
          "execution_count": 61
        },
        {
          "output_type": "display_data",
          "data": {
            "text/plain": [
              "<Figure size 432x288 with 2 Axes>"
            ],
            "image/png": "[encoded data removed]"
          },
          "metadata": {
            "needs_background": "light"
          }
        }
      ]
    },
    {
      "cell_type": "code",
      "source": [
        "print(classification_report(y_test,y_predicted))"
      ],
      "metadata": {
        "colab": {
          "base_uri": "https://localhost:8080/"
        },
        "id": "ytlSqCz_EoG0",
        "outputId": "3bf013c6-b74b-4ca0-e4c3-b77542f15ed7"
      },
      "execution_count": 62,
      "outputs": [
        {
          "output_type": "stream",
          "name": "stdout",
          "text": [
            "              precision    recall  f1-score   support\n",
            "\n",
            "           0       0.91      1.00      0.95        29\n",
            "           1       1.00      0.25      0.40         4\n",
            "\n",
            "    accuracy                           0.91        33\n",
            "   macro avg       0.95      0.62      0.68        33\n",
            "weighted avg       0.92      0.91      0.88        33\n",
            "\n"
          ]
        }
      ]
    },
    {
      "cell_type": "code",
      "source": [
        "print(precision_score(y_test,y_predicted))\n",
        "print(recall_score(y_test,y_predicted))"
      ],
      "metadata": {
        "colab": {
          "base_uri": "https://localhost:8080/"
        },
        "id": "LdnIMl1BMATq",
        "outputId": "726bd82b-7610-44d5-8eb5-0304323dc80d"
      },
      "execution_count": 66,
      "outputs": [
        {
          "output_type": "stream",
          "name": "stdout",
          "text": [
            "1.0\n",
            "0.25\n"
          ]
        }
      ]
    },
    {
      "cell_type": "markdown",
      "source": [
        "CREATING THE FUNCTION FOR PRINTING THE CONFUSION MATRIX AND NORMALIZATION CAN BE APPLIED BY SETTING \"normalize=True\""
      ],
      "metadata": {
        "id": "HDsiI7P-KSKf"
      }
    },
    {
      "cell_type": "code",
      "source": [
        "import matplotlib\n",
        "import matplotlib.pyplot as plt\n",
        "import itertools\n",
        "\n",
        "def plot_confusion_matrix(cm, classes,\n",
        "                          normalize=False,\n",
        "                          title='Confusion matrix',\n",
        "                          cmap=plt.cm.Blues):\n",
        "    if normalize:\n",
        "        cm = cm.astype('float') / cm.sum(axis=1)[:, np.newaxis]\n",
        "        print(\"Normalized confusion matrix\")\n",
        "    else:\n",
        "        print('Confusion matrix, without normalization')\n",
        "\n",
        "    print(cm)\n",
        "\n",
        "    plt.imshow(cm, interpolation='nearest', cmap=cmap)\n",
        "    plt.title(title)\n",
        "    plt.colorbar()\n",
        "    tick_marks = np.arange(len(classes))\n",
        "    plt.xticks(tick_marks, classes, rotation=45)\n",
        "    plt.yticks(tick_marks, classes)\n",
        "\n",
        "    fmt = '.2f' if normalize else 'd'\n",
        "    thresh = cm.max() / 2.\n",
        "    for i, j in itertools.product(range(cm.shape[0]), range(cm.shape[1])):\n",
        "        plt.text(j, i, format(cm[i, j], fmt),\n",
        "                 horizontalalignment=\"center\",\n",
        "                 color=\"white\" if cm[i, j] > thresh else \"black\")\n",
        "\n",
        "    plt.ylabel('True label')\n",
        "    plt.xlabel('Predicted label')\n",
        "    plt.tight_layout()"
      ],
      "metadata": {
        "id": "hlcnjGcxE-Rr"
      },
      "execution_count": 63,
      "outputs": []
    },
    {
      "cell_type": "code",
      "source": [
        "plt.figure()\n",
        "plot_confusion_matrix(confusion_matrix(y_test, y_predicted), classes= [0,1],\n",
        "                      title='Confusion matrix, without normalization')\n",
        "plt.show()\n",
        "print(\" \")\n",
        "# With normalization\n",
        "plt.figure()\n",
        "plot_confusion_matrix(confusion_matrix(y_test, y_predicted), classes= [0,1], normalize=True,\n",
        "                      title='Normalized confusion matrix')\n",
        "\n",
        "plt.show()"
      ],
      "metadata": {
        "colab": {
          "base_uri": "https://localhost:8080/",
          "height": 698
        },
        "id": "IQq_SYpIFPg-",
        "outputId": "7c6600bf-0e2d-465d-dcd1-e1ddaa454ac4"
      },
      "execution_count": 65,
      "outputs": [
        {
          "output_type": "stream",
          "name": "stdout",
          "text": [
            "Confusion matrix, without normalization\n",
            "[[29  0]\n",
            " [ 3  1]]\n"
          ]
        },
        {
          "output_type": "display_data",
          "data": {
            "text/plain": [
              "<Figure size 432x288 with 2 Axes>"
            ],
            "image/png": "[encoded data removed]"
          },
          "metadata": {
            "needs_background": "light"
          }
        },
        {
          "output_type": "stream",
          "name": "stdout",
          "text": [
            " \n",
            "Normalized confusion matrix\n",
            "[[1.   0.  ]\n",
            " [0.75 0.25]]\n"
          ]
        },
        {
          "output_type": "display_data",
          "data": {
            "text/plain": [
              "<Figure size 432x288 with 2 Axes>"
            ],
            "image/png": "[encoded data removed]"
          },
          "metadata": {
            "needs_background": "light"
          }
        }
      ]
    },
    {
      "cell_type": "markdown",
      "source": [
        "Conclusion: logistics Regression is better then random forest as logistic regression performs better when the number of noise variables is less than or equal to the number of explanatory variables."
      ],
      "metadata": {
        "id": "6ynPQ4zJU7nm"
      }
    }
  ]
}