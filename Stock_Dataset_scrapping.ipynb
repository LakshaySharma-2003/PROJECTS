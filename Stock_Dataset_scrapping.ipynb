{
  "nbformat": 4,
  "nbformat_minor": 0,
  "metadata": {
    "colab": {
      "provenance": [],
      "authorship_tag": "ABX9TyN8FeZ7DkjCsWNw7yeZKOIP",
      "include_colab_link": true
    },
    "kernelspec": {
      "name": "python3",
      "display_name": "Python 3"
    },
    "language_info": {
      "name": "python"
    }
  },
  "cells": [
    {
      "cell_type": "markdown",
      "metadata": {
        "id": "view-in-github",
        "colab_type": "text"
      },
      "source": [
        "<a href=\"https://colab.research.google.com/github/LakshaySharma-2003/PROJECTS/blob/main/Stock_Dataset_scrapping.ipynb\" target=\"_parent\"><img src=\"https://colab.research.google.com/assets/colab-badge.svg\" alt=\"Open In Colab\"/></a>"
      ]
    },
    {
      "cell_type": "markdown",
      "source": [
        "**Creating Stock Data**"
      ],
      "metadata": {
        "id": "Bwt_GPZiPUvl"
      }
    },
    {
      "cell_type": "code",
      "execution_count": null,
      "metadata": {
        "colab": {
          "base_uri": "https://localhost:8080/"
        },
        "id": "8qwdHasE8wdO",
        "outputId": "c34b1f7c-0478-4ab4-9f8a-c2dcfe9b6b29"
      },
      "outputs": [
        {
          "output_type": "stream",
          "name": "stdout",
          "text": [
            "Scraping data for RELIANCE.NS...\n",
            "[*********************100%***********************]  1 of 1 completed\n",
            "Data saved for RELIANCE.NS\n",
            "\n",
            "Scraping data for TCS.NS...\n",
            "[*********************100%***********************]  1 of 1 completed\n",
            "Data saved for TCS.NS\n",
            "\n",
            "Scraping data for HDFCBANK.NS...\n",
            "[*********************100%***********************]  1 of 1 completed\n",
            "Data saved for HDFCBANK.NS\n",
            "\n",
            "Scraping data for ITC.NS...\n",
            "[*********************100%***********************]  1 of 1 completed\n",
            "Data saved for ITC.NS\n",
            "\n",
            "Scraping data for HINDUNILVR.NS...\n",
            "[*********************100%***********************]  1 of 1 completed\n",
            "Data saved for HINDUNILVR.NS\n",
            "\n"
          ]
        }
      ],
      "source": [
        "import yfinance as yf\n",
        "import pandas as pd\n",
        "\n",
        "def scrape_stock_data(symbol, start_date, end_date):\n",
        "    # Download historical stock data\n",
        "    data = yf.download(symbol, start=start_date, end=end_date)\n",
        "\n",
        "    # Reset the index\n",
        "    data.reset_index(inplace=True)\n",
        "\n",
        "    # Save the data to a CSV file\n",
        "    data.to_csv(f'{symbol}_stock_data.csv', index=False)\n",
        "\n",
        "    return data\n",
        "\n",
        "# Specify the list of company symbols, start date, and end date for data scraping\n",
        "company_symbols = ['RELIANCE.NS', 'TCS.NS', 'HDFCBANK.NS', 'ITC.NS', 'HINDUNILVR.NS']  # Example symbols\n",
        "start_date = '2020-01-01'\n",
        "end_date = '2023-07-01'\n",
        "\n",
        "# Loop through the company symbols and scrape stock data for each company\n",
        "for symbol in company_symbols:\n",
        "    print(f\"Scraping data for {symbol}...\")\n",
        "    stock_data = scrape_stock_data(symbol, start_date, end_date)\n",
        "    print(f\"Data saved for {symbol}\\n\")"
      ]
    },
    {
      "cell_type": "markdown",
      "source": [
        "**Creating Revenue Data**"
      ],
      "metadata": {
        "id": "2XBoPFFKetjM"
      }
    },
    {
      "cell_type": "code",
      "source": [
        "def calculate_revenue(data):\n",
        "    # Calculate revenue by multiplying the 'Close' price with 'Volume'\n",
        "    data['Revenue'] = data['Close'] * data['Volume']\n",
        "\n",
        "    return data\n",
        "\n",
        "# Specify the list of company symbols for revenue calculation\n",
        "company_symbols = ['RELIANCE.NS', 'TCS.NS', 'HDFCBANK.NS', 'ITC.NS', 'HINDUNILVR.NS'] # Example symbols\n",
        "\n",
        "# Loop through the company symbols and calculate revenue for each company\n",
        "for symbol in company_symbols:\n",
        "    # Read the stock data CSV file for the company\n",
        "    data = pd.read_csv(f'{symbol}_stock_data.csv')\n",
        "\n",
        "    # Calculate revenue\n",
        "    data = calculate_revenue(data)\n",
        "\n",
        "    # Display the revenue data\n",
        "    print(f\"Revenue for {symbol}:\")\n",
        "    print(data[['Date', 'Revenue']])\n",
        "    print()\n",
        "\n",
        "    data.to_csv(f'{symbol}_stock_data_revenue.csv', index=False)"
      ],
      "metadata": {
        "colab": {
          "base_uri": "https://localhost:8080/"
        },
        "id": "00bjjp8n87TE",
        "outputId": "b4b6c5d8-c0d5-4c24-83e6-ccd9c293d21d"
      },
      "execution_count": null,
      "outputs": [
        {
          "output_type": "stream",
          "name": "stdout",
          "text": [
            "Revenue for RELIANCE.NS:\n",
            "           Date       Revenue\n",
            "0    2020-01-01  9.665021e+09\n",
            "1    2020-01-02  1.243065e+10\n",
            "2    2020-01-03  1.474664e+10\n",
            "3    2020-01-06  1.683083e+10\n",
            "4    2020-01-07  1.162842e+10\n",
            "..          ...           ...\n",
            "864  2023-06-23  7.692831e+09\n",
            "865  2023-06-26  1.455877e+10\n",
            "866  2023-06-27  1.116334e+10\n",
            "867  2023-06-28  0.000000e+00\n",
            "868  2023-06-30  1.312471e+10\n",
            "\n",
            "[869 rows x 2 columns]\n",
            "\n",
            "Revenue for TCS.NS:\n",
            "           Date       Revenue\n",
            "0    2020-01-01  2.936899e+09\n",
            "1    2020-01-02  5.136829e+09\n",
            "2    2020-01-03  1.024570e+10\n",
            "3    2020-01-06  6.652420e+09\n",
            "4    2020-01-07  5.358709e+09\n",
            "..          ...           ...\n",
            "864  2023-06-23  3.600720e+09\n",
            "865  2023-06-26  6.311689e+09\n",
            "866  2023-06-27  2.761046e+09\n",
            "867  2023-06-28  0.000000e+00\n",
            "868  2023-06-30  8.824953e+09\n",
            "\n",
            "[869 rows x 2 columns]\n",
            "\n",
            "Revenue for HDFCBANK.NS:\n",
            "           Date       Revenue\n",
            "0    2020-01-01  2.348595e+09\n",
            "1    2020-01-02  3.948499e+09\n",
            "2    2020-01-03  6.884590e+09\n",
            "3    2020-01-06  6.757088e+09\n",
            "4    2020-01-07  9.280848e+09\n",
            "..          ...           ...\n",
            "864  2023-06-23  1.753550e+10\n",
            "865  2023-06-26  1.319097e+10\n",
            "866  2023-06-27  2.805676e+10\n",
            "867  2023-06-28  0.000000e+00\n",
            "868  2023-06-30  3.462265e+10\n",
            "\n",
            "[869 rows x 2 columns]\n",
            "\n",
            "Revenue for ITC.NS:\n",
            "           Date       Revenue\n",
            "0    2020-01-01  1.002124e+09\n",
            "1    2020-01-02  2.015455e+09\n",
            "2    2020-01-03  2.214348e+09\n",
            "3    2020-01-06  1.795369e+09\n",
            "4    2020-01-07  1.980880e+09\n",
            "..          ...           ...\n",
            "864  2023-06-23  2.708928e+09\n",
            "865  2023-06-26  2.441250e+09\n",
            "866  2023-06-27  2.165677e+09\n",
            "867  2023-06-28  0.000000e+00\n",
            "868  2023-06-30  4.112303e+09\n",
            "\n",
            "[869 rows x 2 columns]\n",
            "\n",
            "Revenue for HINDUNILVR.NS:\n",
            "           Date       Revenue\n",
            "0    2020-01-01  1.051614e+09\n",
            "1    2020-01-02  1.285460e+09\n",
            "2    2020-01-03  3.081655e+09\n",
            "3    2020-01-06  1.308499e+09\n",
            "4    2020-01-07  1.553721e+09\n",
            "..          ...           ...\n",
            "864  2023-06-23  2.618391e+09\n",
            "865  2023-06-26  2.012148e+09\n",
            "866  2023-06-27  1.823458e+09\n",
            "867  2023-06-28  0.000000e+00\n",
            "868  2023-06-30  3.107139e+09\n",
            "\n",
            "[869 rows x 2 columns]\n",
            "\n"
          ]
        }
      ]
    }
  ]
}